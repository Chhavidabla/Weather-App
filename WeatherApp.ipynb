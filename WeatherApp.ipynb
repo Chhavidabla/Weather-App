{
 "cells": [
  {
   "cell_type": "code",
   "execution_count": 1,
   "id": "5ee9a558-ca18-40c1-9ca4-39f2decf2f12",
   "metadata": {},
   "outputs": [
    {
     "name": "stdout",
     "output_type": "stream",
     "text": [
      "Requirement already satisfied: geopy in /opt/anaconda3/lib/python3.12/site-packages (2.4.1)\n",
      "Requirement already satisfied: geographiclib<3,>=1.52 in /opt/anaconda3/lib/python3.12/site-packages (from geopy) (2.0)\n",
      "Note: you may need to restart the kernel to use updated packages.\n"
     ]
    }
   ],
   "source": [
    "pip install geopy"
   ]
  },
  {
   "cell_type": "code",
   "execution_count": 3,
   "id": "3901facb-64cd-4b2e-ae67-92c5d4355844",
   "metadata": {},
   "outputs": [
    {
     "name": "stdout",
     "output_type": "stream",
     "text": [
      "Requirement already satisfied: timezonefinder in /opt/anaconda3/lib/python3.12/site-packages (6.5.9)\n",
      "Requirement already satisfied: cffi<2,>=1.15.1 in /opt/anaconda3/lib/python3.12/site-packages (from timezonefinder) (1.17.1)\n",
      "Requirement already satisfied: h3>4 in /opt/anaconda3/lib/python3.12/site-packages (from timezonefinder) (4.2.2)\n",
      "Requirement already satisfied: numpy<3,>=1.23 in /opt/anaconda3/lib/python3.12/site-packages (from timezonefinder) (1.26.4)\n",
      "Requirement already satisfied: pycparser in /opt/anaconda3/lib/python3.12/site-packages (from cffi<2,>=1.15.1->timezonefinder) (2.21)\n",
      "Note: you may need to restart the kernel to use updated packages.\n"
     ]
    }
   ],
   "source": [
    "pip install timezonefinder"
   ]
  },
  {
   "cell_type": "code",
   "execution_count": 5,
   "id": "f1a46c1b-b2d0-44d8-9393-8399192595f6",
   "metadata": {},
   "outputs": [
    {
     "name": "stdout",
     "output_type": "stream",
     "text": [
      "Requirement already satisfied: pytz in /opt/anaconda3/lib/python3.12/site-packages (2024.1)\n",
      "Note: you may need to restart the kernel to use updated packages.\n"
     ]
    }
   ],
   "source": [
    "pip install pytz"
   ]
  },
  {
   "cell_type": "code",
   "execution_count": 7,
   "id": "0f020c1b-decd-4411-a832-34ca0eb7f1e3",
   "metadata": {},
   "outputs": [
    {
     "name": "stdout",
     "output_type": "stream",
     "text": [
      "Requirement already satisfied: tk in /opt/anaconda3/lib/python3.12/site-packages (0.1.0)\n",
      "Note: you may need to restart the kernel to use updated packages.\n"
     ]
    }
   ],
   "source": [
    "pip install tk"
   ]
  },
  {
   "cell_type": "code",
   "execution_count": 24,
   "id": "001508f0-ad37-4132-b426-1c9c2a33fcb3",
   "metadata": {},
   "outputs": [],
   "source": [
    "from tkinter import*\n",
    "import tkinter as tk\n",
    "from geopy.geocoders import Nominatim\n",
    "from tkinter import ttk,messagebox\n",
    "from timezonefinder import TimezoneFinder\n",
    "from datetime import datetime\n",
    "from geopy.geocoders import OpenCage\n",
    "import requests\n",
    "import pytz"
   ]
  },
  {
   "cell_type": "code",
   "execution_count": 38,
   "id": "9e430047-033b-45db-90fb-9316ee0932cc",
   "metadata": {},
   "outputs": [
    {
     "name": "stdout",
     "output_type": "stream",
     "text": [
      "Asia/Kolkata\n"
     ]
    }
   ],
   "source": [
    "\n",
    "root=Tk()\n",
    "root.title(\"Weather App\")\n",
    "root.geometry(\"900x500+300+200\")\n",
    "root.resizable(False,False)\n",
    "\n",
    "def getWeather():\n",
    "    try:\n",
    "        city = textfield.get()\n",
    "        geolocator = OpenCage(api_key=\"94e2a52da3674b04b361dc55e9df7731\")\n",
    "        location = geolocator.geocode(city)\n",
    "        obj=TimezoneFinder()\n",
    "        result=obj.timezone_at(lng=location.longitude,lat=location.latitude)\n",
    "        print(result)\n",
    "    \n",
    "        home = pytz.timezone(result)\n",
    "        local_time = datetime.now(home)\n",
    "        current_time = local_time.strftime(\"%I:%M %p\")\n",
    "        clock.config(text=current_time)\n",
    "        name.config(text=\"CURRENT WEATHER\")\n",
    "        #weather\n",
    "        API_KEY = \"5e2eeb4c167a368a73c216d84bc0efca\" \n",
    "        lat, lon = location.latitude, location.longitude  \n",
    "        api = f\"https://api.openweathermap.org/data/2.5/weather?lat={lat}&lon={lon}&appid={API_KEY}&units=metric\"\n",
    "        json_data = requests.get(api).json()\n",
    "    \n",
    "        condition = json_data['weather'][0]['main']\n",
    "        description = json_data['weather'][0]['description']\n",
    "        temp = int(json_data['main']['temp'])\n",
    "        pressure = json_data['main']['pressure']\n",
    "        humidity = json_data['main']['humidity']\n",
    "        wind = json_data['wind']['speed']\n",
    "    \n",
    "        t.config(text=(temp, \"°C\"))\n",
    "        c.config(text=(condition, \"|\", \"FEELS LIKE\", temp, \"°C\"))\n",
    "        w.config(text=wind)\n",
    "        h.config(text=humidity)\n",
    "        d.config(text=description)\n",
    "        p.config(text=pressure)\n",
    "    except Exception as e:\n",
    "        messagebox.showerror(\"Weather App\", \"An error occurred: \" + str(e))  \n",
    "#search box'\n",
    "search_image=PhotoImage(file=\"/Users/chhavidabla/Downloads/Copy of search.png\")\n",
    "myimage=Label(image=search_image)\n",
    "myimage.place(x=20,y=20)\n",
    "\n",
    "textfield=tk.Entry(root,justify=\"center\",width=17,font=(\"poppins\",25,\"bold\"),bg=\"#404040\",border=0,fg=\"white\")\n",
    "textfield.place(x=50,y=40)\n",
    "textfield.focus()\n",
    "\n",
    "Search_icon=PhotoImage(file=\"/Users/chhavidabla/Downloads/Copy of search_icon.png\")\n",
    "myimage_icon=Button(image=Search_icon,borderwidth=0,cursor=\"hand2\",bg=\"#404040\",command=getWeather)\n",
    "myimage_icon.place(x=400,y=34)\n",
    "\n",
    "#logo\n",
    "logo_image=PhotoImage(file=\"/Users/chhavidabla/Downloads/Copy of logo.png\")\n",
    "logo=Label(image=logo_image)\n",
    "logo.place(x=100,y=100)\n",
    "\n",
    "#Bottom box\n",
    "Frame_image=PhotoImage(file=\"/Users/chhavidabla/Downloads/Copy of box.png\")\n",
    "frame_myimage=Label(image=Frame_image)\n",
    "frame_myimage.pack(padx=5,pady=5,side=BOTTOM)\n",
    "\n",
    "#time\n",
    "name=Label(root,font=(\"arial\",15,\"bold\"))\n",
    "name.place(x=30,y=100)\n",
    "clock=Label(root,font=(\"Helvetica\",20))\n",
    "clock.place(x=30,y=130)\n",
    "#label\n",
    "label1=Label(root,text=\"WIND\",font=(\"Helvetica\",15,'bold'),fg=\"white\",bg=\"#1ab5ef\")\n",
    "label1.place(x=120,y=400)\n",
    "label2=Label(root,text=\"HUMIDITY\",font=(\"Helvetica\",15,'bold'),fg=\"white\",bg=\"#1ab5ef\")\n",
    "label2.place(x=250,y=400)\n",
    "label3=Label(root,text=\"DESCRIPTION\",font=(\"Helvetica\",15,'bold'),fg=\"white\",bg=\"#1ab5ef\")\n",
    "label3.place(x=430,y=400)\n",
    "label4=Label(root,text=\"PRESSURE\",font=(\"Helvetica\",15,'bold'),fg=\"white\",bg=\"#1ab5ef\")\n",
    "label4.place(x=650,y=400)\n",
    "\n",
    "t=Label(font=(\"arial\",70,\"bold\"),fg=\"#ee666d\")\n",
    "t.place(x=400,y=150)\n",
    "c=Label(font=(\"arial\",15,'bold'))\n",
    "c.place(x=400,y=250)\n",
    "\n",
    "w=Label(text=\"...\",font=(\"arial\",20,\"bold\"),bg='#1ab5ef')\n",
    "w.place(x=120,y=430)\n",
    "h=Label(text=\"...\",font=(\"arial\",20,\"bold\"),bg='#1ab5ef')\n",
    "h.place(x=280,y=430)\n",
    "d=Label(text=\"...\",font=(\"arial\",20,\"bold\"),bg='#1ab5ef')\n",
    "d.place(x=450,y=430)\n",
    "p=Label(text=\"...\",font=(\"arial\",20,\"bold\"),bg='#1ab5ef')\n",
    "p.place(x=670,y=430)\n",
    "\n",
    "root.mainloop()"
   ]
  },
  {
   "cell_type": "code",
   "execution_count": null,
   "id": "d5cd8a30-4562-4f0b-a97e-7eee6f3e6178",
   "metadata": {},
   "outputs": [],
   "source": []
  }
 ],
 "metadata": {
  "kernelspec": {
   "display_name": "Python 3 (ipykernel)",
   "language": "python",
   "name": "python3"
  },
  "language_info": {
   "codemirror_mode": {
    "name": "ipython",
    "version": 3
   },
   "file_extension": ".py",
   "mimetype": "text/x-python",
   "name": "python",
   "nbconvert_exporter": "python",
   "pygments_lexer": "ipython3",
   "version": "3.12.7"
  }
 },
 "nbformat": 4,
 "nbformat_minor": 5
}
