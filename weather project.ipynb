{
 "cells": [
  {
   "cell_type": "code",
   "execution_count": 1,
   "id": "1f63a597",
   "metadata": {},
   "outputs": [
    {
     "name": "stdout",
     "output_type": "stream",
     "text": [
      "Collecting geopy\n",
      "  Obtaining dependency information for geopy from https://files.pythonhosted.org/packages/e5/15/cf2a69ade4b194aa524ac75112d5caac37414b20a3a03e6865dfe0bd1539/geopy-2.4.1-py3-none-any.whl.metadata\n",
      "  Downloading geopy-2.4.1-py3-none-any.whl.metadata (6.8 kB)\n",
      "Collecting geographiclib<3,>=1.52 (from geopy)\n",
      "  Downloading geographiclib-2.0-py3-none-any.whl (40 kB)\n",
      "     ---------------------------------------- 0.0/40.3 kB ? eta -:--:--\n",
      "     ---------------------------------------- 40.3/40.3 kB 2.0 MB/s eta 0:00:00\n",
      "Downloading geopy-2.4.1-py3-none-any.whl (125 kB)\n",
      "   ---------------------------------------- 0.0/125.4 kB ? eta -:--:--\n",
      "   ---------------------------------------- 125.4/125.4 kB 3.7 MB/s eta 0:00:00\n",
      "Installing collected packages: geographiclib, geopy\n",
      "Successfully installed geographiclib-2.0 geopy-2.4.1\n",
      "Note: you may need to restart the kernel to use updated packages.\n"
     ]
    }
   ],
   "source": [
    "pip install geopy"
   ]
  },
  {
   "cell_type": "code",
   "execution_count": 1,
   "id": "803ff6d5",
   "metadata": {},
   "outputs": [
    {
     "name": "stdout",
     "output_type": "stream",
     "text": [
      "Collecting geopy\n",
      "  Obtaining dependency information for geopy from https://files.pythonhosted.org/packages/e5/15/cf2a69ade4b194aa524ac75112d5caac37414b20a3a03e6865dfe0bd1539/geopy-2.4.1-py3-none-any.whl.metadata\n",
      "  Downloading geopy-2.4.1-py3-none-any.whl.metadata (6.8 kB)\n",
      "Collecting geographiclib<3,>=1.52 (from geopy)\n",
      "  Downloading geographiclib-2.0-py3-none-any.whl (40 kB)\n",
      "     ---------------------------------------- 0.0/40.3 kB ? eta -:--:--\n",
      "     ---------------------------------------- 40.3/40.3 kB 2.0 MB/s eta 0:00:00\n",
      "Downloading geopy-2.4.1-py3-none-any.whl (125 kB)\n",
      "   ---------------------------------------- 0.0/125.4 kB ? eta -:--:--\n",
      "   ---------------------------------------- 125.4/125.4 kB 3.7 MB/s eta 0:00:00\n",
      "Installing collected packages: geographiclib, geopy\n",
      "Successfully installed geographiclib-2.0 geopy-2.4.1\n",
      "Note: you may need to restart the kernel to use updated packages.\n"
     ]
    }
   ],
   "source": [
    "pip install geopy"
   ]
  },
  {
   "cell_type": "code",
   "execution_count": 1,
   "id": "f0f91afb",
   "metadata": {},
   "outputs": [
    {
     "name": "stdout",
     "output_type": "stream",
     "text": [
      "Collecting geopy\n",
      "  Obtaining dependency information for geopy from https://files.pythonhosted.org/packages/e5/15/cf2a69ade4b194aa524ac75112d5caac37414b20a3a03e6865dfe0bd1539/geopy-2.4.1-py3-none-any.whl.metadata\n",
      "  Downloading geopy-2.4.1-py3-none-any.whl.metadata (6.8 kB)\n",
      "Collecting geographiclib<3,>=1.52 (from geopy)\n",
      "  Downloading geographiclib-2.0-py3-none-any.whl (40 kB)\n",
      "     ---------------------------------------- 0.0/40.3 kB ? eta -:--:--\n",
      "     ---------------------------------------- 40.3/40.3 kB 2.0 MB/s eta 0:00:00\n",
      "Downloading geopy-2.4.1-py3-none-any.whl (125 kB)\n",
      "   ---------------------------------------- 0.0/125.4 kB ? eta -:--:--\n",
      "   ---------------------------------------- 125.4/125.4 kB 3.7 MB/s eta 0:00:00\n",
      "Installing collected packages: geographiclib, geopy\n",
      "Successfully installed geographiclib-2.0 geopy-2.4.1\n",
      "Note: you may need to restart the kernel to use updated packages.\n"
     ]
    }
   ],
   "source": [
    "pip install geopy"
   ]
  },
  {
   "cell_type": "code",
   "execution_count": 1,
   "id": "5beb1df4",
   "metadata": {},
   "outputs": [
    {
     "name": "stdout",
     "output_type": "stream",
     "text": [
      "Collecting geopy\n",
      "  Obtaining dependency information for geopy from https://files.pythonhosted.org/packages/e5/15/cf2a69ade4b194aa524ac75112d5caac37414b20a3a03e6865dfe0bd1539/geopy-2.4.1-py3-none-any.whl.metadata\n",
      "  Downloading geopy-2.4.1-py3-none-any.whl.metadata (6.8 kB)\n",
      "Collecting geographiclib<3,>=1.52 (from geopy)\n",
      "  Downloading geographiclib-2.0-py3-none-any.whl (40 kB)\n",
      "     ---------------------------------------- 0.0/40.3 kB ? eta -:--:--\n",
      "     ---------------------------------------- 40.3/40.3 kB 2.0 MB/s eta 0:00:00\n",
      "Downloading geopy-2.4.1-py3-none-any.whl (125 kB)\n",
      "   ---------------------------------------- 0.0/125.4 kB ? eta -:--:--\n",
      "   ---------------------------------------- 125.4/125.4 kB 3.7 MB/s eta 0:00:00\n",
      "Installing collected packages: geographiclib, geopy\n",
      "Successfully installed geographiclib-2.0 geopy-2.4.1\n",
      "Note: you may need to restart the kernel to use updated packages.\n"
     ]
    }
   ],
   "source": [
    "pip install geopy"
   ]
  },
  {
   "cell_type": "code",
   "execution_count": 1,
   "id": "abe64b10",
   "metadata": {},
   "outputs": [
    {
     "name": "stdout",
     "output_type": "stream",
     "text": [
      "Collecting geopy\n",
      "  Obtaining dependency information for geopy from https://files.pythonhosted.org/packages/e5/15/cf2a69ade4b194aa524ac75112d5caac37414b20a3a03e6865dfe0bd1539/geopy-2.4.1-py3-none-any.whl.metadata\n",
      "  Downloading geopy-2.4.1-py3-none-any.whl.metadata (6.8 kB)\n",
      "Collecting geographiclib<3,>=1.52 (from geopy)\n",
      "  Downloading geographiclib-2.0-py3-none-any.whl (40 kB)\n",
      "     ---------------------------------------- 0.0/40.3 kB ? eta -:--:--\n",
      "     ---------------------------------------- 40.3/40.3 kB 2.0 MB/s eta 0:00:00\n",
      "Downloading geopy-2.4.1-py3-none-any.whl (125 kB)\n",
      "   ---------------------------------------- 0.0/125.4 kB ? eta -:--:--\n",
      "   ---------------------------------------- 125.4/125.4 kB 3.7 MB/s eta 0:00:00\n",
      "Installing collected packages: geographiclib, geopy\n",
      "Successfully installed geographiclib-2.0 geopy-2.4.1\n",
      "Note: you may need to restart the kernel to use updated packages.\n"
     ]
    }
   ],
   "source": [
    "pip install geopy"
   ]
  },
  {
   "cell_type": "code",
   "execution_count": 1,
   "id": "c57b613a",
   "metadata": {},
   "outputs": [
    {
     "name": "stdout",
     "output_type": "stream",
     "text": [
      "Collecting geopy\n",
      "  Obtaining dependency information for geopy from https://files.pythonhosted.org/packages/e5/15/cf2a69ade4b194aa524ac75112d5caac37414b20a3a03e6865dfe0bd1539/geopy-2.4.1-py3-none-any.whl.metadata\n",
      "  Downloading geopy-2.4.1-py3-none-any.whl.metadata (6.8 kB)\n",
      "Collecting geographiclib<3,>=1.52 (from geopy)\n",
      "  Downloading geographiclib-2.0-py3-none-any.whl (40 kB)\n",
      "     ---------------------------------------- 0.0/40.3 kB ? eta -:--:--\n",
      "     ---------------------------------------- 40.3/40.3 kB 2.0 MB/s eta 0:00:00\n",
      "Downloading geopy-2.4.1-py3-none-any.whl (125 kB)\n",
      "   ---------------------------------------- 0.0/125.4 kB ? eta -:--:--\n",
      "   ---------------------------------------- 125.4/125.4 kB 3.7 MB/s eta 0:00:00\n",
      "Installing collected packages: geographiclib, geopy\n",
      "Successfully installed geographiclib-2.0 geopy-2.4.1\n",
      "Note: you may need to restart the kernel to use updated packages.\n"
     ]
    }
   ],
   "source": [
    "pip install geopy"
   ]
  },
  {
   "cell_type": "code",
   "execution_count": 1,
   "id": "423a421a",
   "metadata": {},
   "outputs": [
    {
     "name": "stdout",
     "output_type": "stream",
     "text": [
      "Collecting timezonefinderNote: you may need to restart the kernel to use updated packages.\n",
      "\n",
      "  Using cached timezonefinder-6.2.0-cp311-cp311-win_amd64.whl\n",
      "Requirement already satisfied: cffi<2,>=1.15.1 in c:\\users\\hp\\anaconda3\\lib\\site-packages (from timezonefinder) (1.15.1)\n",
      "Collecting h3<4,>=3.7.6 (from timezonefinder)\n",
      "  Using cached h3-3.7.6-cp311-cp311-win_amd64.whl (844 kB)\n",
      "Requirement already satisfied: numpy<2,>=1.18 in c:\\users\\hp\\anaconda3\\lib\\site-packages (from timezonefinder) (1.24.3)\n",
      "Requirement already satisfied: setuptools>=65.5 in c:\\users\\hp\\anaconda3\\lib\\site-packages (from timezonefinder) (68.0.0)\n",
      "Requirement already satisfied: pycparser in c:\\users\\hp\\anaconda3\\lib\\site-packages (from cffi<2,>=1.15.1->timezonefinder) (2.21)\n",
      "Installing collected packages: h3, timezonefinder\n",
      "Successfully installed h3-3.7.6 timezonefinder-6.2.0\n"
     ]
    }
   ],
   "source": [
    "pip install timezonefinder"
   ]
  },
  {
   "cell_type": "code",
   "execution_count": 2,
   "id": "39e0a44e",
   "metadata": {},
   "outputs": [
    {
     "name": "stdout",
     "output_type": "stream",
     "text": [
      "Requirement already satisfied: pytz in c:\\users\\hp\\anaconda3\\lib\\site-packages (2022.7)\n",
      "Note: you may need to restart the kernel to use updated packages.\n"
     ]
    }
   ],
   "source": [
    "pip install pytz"
   ]
  },
  {
   "cell_type": "code",
   "execution_count": 3,
   "id": "f293f89b",
   "metadata": {},
   "outputs": [
    {
     "name": "stdout",
     "output_type": "stream",
     "text": [
      "Collecting tk\n",
      "  Downloading tk-0.1.0-py3-none-any.whl (3.9 kB)\n",
      "Installing collected packages: tk\n",
      "Successfully installed tk-0.1.0\n",
      "Note: you may need to restart the kernel to use updated packages.\n"
     ]
    }
   ],
   "source": [
    "pip install tk"
   ]
  },
  {
   "cell_type": "code",
   "execution_count": 1,
   "id": "fcb67fe2",
   "metadata": {},
   "outputs": [],
   "source": [
    "from tkinter import*\n",
    "import tkinter as tk\n",
    "from geopy.geocoders import Nominatim\n",
    "from tkinter import ttk,messagebox\n",
    "from timezonefinder import TimezoneFinder\n",
    "from datetime import datetime\n",
    "import requests\n",
    "import pytz\n",
    "\n",
    "root=Tk()\n",
    "root.title(\"Weather App\")\n",
    "root.geometry(\"900x500+300+200\")\n",
    "root.resizable(False,False)\n",
    "\n",
    "def getWeather():\n",
    "    try:\n",
    "        city=textfield.get()\n",
    "        \n",
    "        geolocator=Nominatim(user_agent=\"geoapiExercises\")\n",
    "        location=geolocator.geocode(city)\n",
    "        obj=TimezoneFinder()\n",
    "        result=obj.timezone_at(lng=location.longitude,lat=location.latitude)\n",
    "    \n",
    "        home=pytz.timezone(result)\n",
    "        local_time=datetime.now(home)\n",
    "        current_time=local_time.strftime(\"%I:%M %p\")\n",
    "        clock.config(text=current_time)\n",
    "        name.config(text=\"CURRENT WEATHER\")\n",
    "    \n",
    "    #weather\n",
    "        api=\"https://api.openweathermap.org/data/2.5/weather?q=\"+city+\"&appid=2ff19a1cb4a5b98e8d32a0b4828b6c39\"\n",
    "    \n",
    "        json_data=requests.get(api).json()\n",
    "        condition=json_data['weather'][0]['main']\n",
    "        description=json_data['weather'][0]['description']\n",
    "        temp=int(json_data['main']['temp']-273.15)\n",
    "        pressure=json_data['main']['pressure']\n",
    "        humidity=json_data['main']['humidity']\n",
    "        wind=json_data['wind']['speed']\n",
    "    \n",
    "        t.config(text=(temp,\"°\"))\n",
    "        c.config(text=(condition,\"|\",\"FEELS\",\"LIKE\",temp,\"°\"))\n",
    "    \n",
    "        w.config(text=wind)\n",
    "        h.config(text=humidity)\n",
    "        d.config(text=description)\n",
    "        p.config(text=pressure)\n",
    "    except Exception as e:\n",
    "        messagebox.showerror(\"Weather App\",\"Invalid Entry!!\")\n",
    "\n",
    "#search box\n",
    "search_image=PhotoImage(file=\"C:/Users/HP/OneDrive/Desktop/search.png\")\n",
    "myimage=Label(image=search_image)\n",
    "myimage.place(x=20,y=20)\n",
    "\n",
    "textfield=tk.Entry(root,justify=\"center\",width=17,font=(\"poppins\",25,\"bold\"),bg=\"#404040\",border=0,fg=\"white\")\n",
    "textfield.place(x=50,y=40)\n",
    "textfield.focus()\n",
    "\n",
    "Search_icon=PhotoImage(file=\"C:/Users/HP/OneDrive/Desktop/weather project/search_icon.png\")\n",
    "myimage_icon=Button(image=Search_icon,borderwidth=0,cursor=\"hand2\",bg=\"#404040\",command=getWeather)\n",
    "myimage_icon.place(x=400,y=34)\n",
    "\n",
    "#logo\n",
    "logo_image=PhotoImage(file=\"C:/Users/HP/OneDrive/Desktop/weather-icon.png\")\n",
    "logo=Label(image=logo_image)\n",
    "logo.place(x=100,y=100)\n",
    "\n",
    "#Bottom box\n",
    "Frame_image=PhotoImage(file=\"C:/Users/HP/OneDrive/Desktop/weather project/box.png\")\n",
    "frame_myimage=Label(image=Frame_image)\n",
    "frame_myimage.pack(padx=5,pady=5,side=BOTTOM)\n",
    "\n",
    "#time\n",
    "name=Label(root,font=(\"arial\",15,\"bold\"))\n",
    "name.place(x=30,y=100)\n",
    "clock=Label(root,font=(\"Helvetica\",20))\n",
    "clock.place(x=30,y=130)\n",
    "\n",
    "#label\n",
    "label1=Label(root,text=\"WIND\",font=(\"Helvetica\",15,'bold'),fg=\"white\",bg=\"#1ab5ef\")\n",
    "label1.place(x=120,y=400)\n",
    "label2=Label(root,text=\"HUMIDITY\",font=(\"Helvetica\",15,'bold'),fg=\"white\",bg=\"#1ab5ef\")\n",
    "label2.place(x=250,y=400)\n",
    "label3=Label(root,text=\"DESCRIPTION\",font=(\"Helvetica\",15,'bold'),fg=\"white\",bg=\"#1ab5ef\")\n",
    "label3.place(x=430,y=400)\n",
    "label4=Label(root,text=\"PRESSURE\",font=(\"Helvetica\",15,'bold'),fg=\"white\",bg=\"#1ab5ef\")\n",
    "label4.place(x=650,y=400)\n",
    "\n",
    "t=Label(font=(\"arial\",70,\"bold\"),fg=\"#ee666d\")\n",
    "t.place(x=400,y=150)\n",
    "c=Label(font=(\"arial\",15,'bold'))\n",
    "c.place(x=400,y=250)\n",
    "\n",
    "w=Label(text=\"...\",font=(\"arial\",20,\"bold\"),bg='#1ab5ef')\n",
    "w.place(x=120,y=430)\n",
    "h=Label(text=\"...\",font=(\"arial\",20,\"bold\"),bg='#1ab5ef')\n",
    "h.place(x=280,y=430)\n",
    "d=Label(text=\"...\",font=(\"arial\",20,\"bold\"),bg='#1ab5ef')\n",
    "d.place(x=450,y=430)\n",
    "p=Label(text=\"...\",font=(\"arial\",20,\"bold\"),bg='#1ab5ef')\n",
    "p.place(x=670,y=430)\n",
    "\n",
    "root.mainloop()"
   ]
  },
  {
   "cell_type": "code",
   "execution_count": null,
   "id": "8701d803",
   "metadata": {},
   "outputs": [],
   "source": []
  }
 ],
 "metadata": {
  "kernelspec": {
   "display_name": "Python 3 (ipykernel)",
   "language": "python",
   "name": "python3"
  },
  "language_info": {
   "codemirror_mode": {
    "name": "ipython",
    "version": 3
   },
   "file_extension": ".py",
   "mimetype": "text/x-python",
   "name": "python",
   "nbconvert_exporter": "python",
   "pygments_lexer": "ipython3",
   "version": "3.11.4"
  }
 },
 "nbformat": 4,
 "nbformat_minor": 5
}
